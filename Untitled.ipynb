{
 "cells": [
  {
   "cell_type": "code",
   "execution_count": 1,
   "metadata": {},
   "outputs": [],
   "source": [
    "import numpy as np\n",
    "import matplotlib.pyplot as plt\n",
    "import pandas as pd\n"
   ]
  },
  {
   "cell_type": "code",
   "execution_count": 44,
   "metadata": {},
   "outputs": [],
   "source": [
    "data = pd.read_csv('winequality-red.csv')"
   ]
  },
  {
   "cell_type": "code",
   "execution_count": 45,
   "metadata": {},
   "outputs": [
    {
     "data": {
      "text/html": [
       "<div>\n",
       "<style scoped>\n",
       "    .dataframe tbody tr th:only-of-type {\n",
       "        vertical-align: middle;\n",
       "    }\n",
       "\n",
       "    .dataframe tbody tr th {\n",
       "        vertical-align: top;\n",
       "    }\n",
       "\n",
       "    .dataframe thead th {\n",
       "        text-align: right;\n",
       "    }\n",
       "</style>\n",
       "<table border=\"1\" class=\"dataframe\">\n",
       "  <thead>\n",
       "    <tr style=\"text-align: right;\">\n",
       "      <th></th>\n",
       "      <th>fixed acidity</th>\n",
       "      <th>volatile acidity</th>\n",
       "      <th>citric acid</th>\n",
       "      <th>residual sugar</th>\n",
       "      <th>chlorides</th>\n",
       "      <th>free sulfur dioxide</th>\n",
       "      <th>total sulfur dioxide</th>\n",
       "      <th>density</th>\n",
       "      <th>pH</th>\n",
       "      <th>sulphates</th>\n",
       "      <th>alcohol</th>\n",
       "      <th>quality</th>\n",
       "    </tr>\n",
       "  </thead>\n",
       "  <tbody>\n",
       "    <tr>\n",
       "      <th>0</th>\n",
       "      <td>7.4</td>\n",
       "      <td>0.70</td>\n",
       "      <td>0.00</td>\n",
       "      <td>1.9</td>\n",
       "      <td>0.076</td>\n",
       "      <td>11.0</td>\n",
       "      <td>34.0</td>\n",
       "      <td>0.9978</td>\n",
       "      <td>3.51</td>\n",
       "      <td>0.56</td>\n",
       "      <td>9.4</td>\n",
       "      <td>5</td>\n",
       "    </tr>\n",
       "    <tr>\n",
       "      <th>1</th>\n",
       "      <td>7.8</td>\n",
       "      <td>0.88</td>\n",
       "      <td>0.00</td>\n",
       "      <td>2.6</td>\n",
       "      <td>0.098</td>\n",
       "      <td>25.0</td>\n",
       "      <td>67.0</td>\n",
       "      <td>0.9968</td>\n",
       "      <td>3.20</td>\n",
       "      <td>0.68</td>\n",
       "      <td>9.8</td>\n",
       "      <td>5</td>\n",
       "    </tr>\n",
       "    <tr>\n",
       "      <th>2</th>\n",
       "      <td>7.8</td>\n",
       "      <td>0.76</td>\n",
       "      <td>0.04</td>\n",
       "      <td>2.3</td>\n",
       "      <td>0.092</td>\n",
       "      <td>15.0</td>\n",
       "      <td>54.0</td>\n",
       "      <td>0.9970</td>\n",
       "      <td>3.26</td>\n",
       "      <td>0.65</td>\n",
       "      <td>9.8</td>\n",
       "      <td>5</td>\n",
       "    </tr>\n",
       "    <tr>\n",
       "      <th>3</th>\n",
       "      <td>11.2</td>\n",
       "      <td>0.28</td>\n",
       "      <td>0.56</td>\n",
       "      <td>1.9</td>\n",
       "      <td>0.075</td>\n",
       "      <td>17.0</td>\n",
       "      <td>60.0</td>\n",
       "      <td>0.9980</td>\n",
       "      <td>3.16</td>\n",
       "      <td>0.58</td>\n",
       "      <td>9.8</td>\n",
       "      <td>6</td>\n",
       "    </tr>\n",
       "    <tr>\n",
       "      <th>4</th>\n",
       "      <td>7.4</td>\n",
       "      <td>0.70</td>\n",
       "      <td>0.00</td>\n",
       "      <td>1.9</td>\n",
       "      <td>0.076</td>\n",
       "      <td>11.0</td>\n",
       "      <td>34.0</td>\n",
       "      <td>0.9978</td>\n",
       "      <td>3.51</td>\n",
       "      <td>0.56</td>\n",
       "      <td>9.4</td>\n",
       "      <td>5</td>\n",
       "    </tr>\n",
       "  </tbody>\n",
       "</table>\n",
       "</div>"
      ],
      "text/plain": [
       "   fixed acidity  volatile acidity  citric acid  residual sugar  chlorides  \\\n",
       "0            7.4              0.70         0.00             1.9      0.076   \n",
       "1            7.8              0.88         0.00             2.6      0.098   \n",
       "2            7.8              0.76         0.04             2.3      0.092   \n",
       "3           11.2              0.28         0.56             1.9      0.075   \n",
       "4            7.4              0.70         0.00             1.9      0.076   \n",
       "\n",
       "   free sulfur dioxide  total sulfur dioxide  density    pH  sulphates  \\\n",
       "0                 11.0                  34.0   0.9978  3.51       0.56   \n",
       "1                 25.0                  67.0   0.9968  3.20       0.68   \n",
       "2                 15.0                  54.0   0.9970  3.26       0.65   \n",
       "3                 17.0                  60.0   0.9980  3.16       0.58   \n",
       "4                 11.0                  34.0   0.9978  3.51       0.56   \n",
       "\n",
       "   alcohol  quality  \n",
       "0      9.4        5  \n",
       "1      9.8        5  \n",
       "2      9.8        5  \n",
       "3      9.8        6  \n",
       "4      9.4        5  "
      ]
     },
     "execution_count": 45,
     "metadata": {},
     "output_type": "execute_result"
    }
   ],
   "source": [
    "data.head()"
   ]
  },
  {
   "cell_type": "code",
   "execution_count": 25,
   "metadata": {},
   "outputs": [],
   "source": [
    "from sklearn.model_selection import train_test_split"
   ]
  },
  {
   "cell_type": "code",
   "execution_count": 50,
   "metadata": {},
   "outputs": [],
   "source": [
    "X = data.iloc[:,0:11].values\n",
    "y = data.iloc[:,-1].values"
   ]
  },
  {
   "cell_type": "code",
   "execution_count": 51,
   "metadata": {},
   "outputs": [
    {
     "data": {
      "text/plain": [
       "array([5, 5, 5, ..., 6, 5, 6], dtype=int64)"
      ]
     },
     "execution_count": 51,
     "metadata": {},
     "output_type": "execute_result"
    }
   ],
   "source": [
    "X\n",
    "y"
   ]
  },
  {
   "cell_type": "code",
   "execution_count": 52,
   "metadata": {},
   "outputs": [],
   "source": [
    "from sklearn.tree import DecisionTreeRegressor"
   ]
  },
  {
   "cell_type": "code",
   "execution_count": 53,
   "metadata": {},
   "outputs": [],
   "source": [
    "X_train, X_test, y_train, y_test = train_test_split(X, y, test_size=0.2)"
   ]
  },
  {
   "cell_type": "code",
   "execution_count": 54,
   "metadata": {},
   "outputs": [],
   "source": [
    "model = DecisionTreeRegressor()"
   ]
  },
  {
   "cell_type": "code",
   "execution_count": 55,
   "metadata": {},
   "outputs": [
    {
     "data": {
      "text/plain": [
       "DecisionTreeRegressor(criterion='mse', max_depth=None, max_features=None,\n",
       "           max_leaf_nodes=None, min_impurity_decrease=0.0,\n",
       "           min_impurity_split=None, min_samples_leaf=1,\n",
       "           min_samples_split=2, min_weight_fraction_leaf=0.0,\n",
       "           presort=False, random_state=None, splitter='best')"
      ]
     },
     "execution_count": 55,
     "metadata": {},
     "output_type": "execute_result"
    }
   ],
   "source": [
    "model.fit(X_train, y_train)"
   ]
  },
  {
   "cell_type": "code",
   "execution_count": 56,
   "metadata": {},
   "outputs": [
    {
     "data": {
      "text/plain": [
       "0.06883093599591783"
      ]
     },
     "execution_count": 56,
     "metadata": {},
     "output_type": "execute_result"
    }
   ],
   "source": [
    "model.score(X_test, y_test)"
   ]
  },
  {
   "cell_type": "code",
   "execution_count": 60,
   "metadata": {},
   "outputs": [
    {
     "data": {
      "text/plain": [
       "array([6.])"
      ]
     },
     "execution_count": 60,
     "metadata": {},
     "output_type": "execute_result"
    }
   ],
   "source": [
    "model.predict([[11.2,0.28,0.56,1.9,0.075,17.0,60.0,0.9980,3.16,0.58,9.8]])"
   ]
  },
  {
   "cell_type": "code",
   "execution_count": 61,
   "metadata": {},
   "outputs": [
    {
     "data": {
      "text/plain": [
       "array([5., 5., 5., 6., 6., 5., 6., 6., 6., 5., 5., 6., 4., 5., 6., 6., 7.,\n",
       "       4., 6., 5., 6., 6., 5., 5., 5., 6., 5., 5., 5., 6., 7., 6., 7., 7.,\n",
       "       5., 5., 5., 5., 6., 6., 7., 7., 7., 5., 5., 6., 5., 6., 5., 5., 5.,\n",
       "       6., 6., 7., 6., 7., 6., 7., 7., 5., 4., 5., 6., 6., 7., 6., 6., 6.,\n",
       "       6., 6., 7., 5., 6., 7., 6., 5., 6., 5., 6., 5., 4., 5., 6., 5., 7.,\n",
       "       7., 7., 7., 7., 5., 7., 5., 5., 6., 7., 5., 6., 5., 6., 6., 5., 5.,\n",
       "       4., 6., 6., 5., 5., 6., 6., 6., 6., 6., 6., 5., 5., 6., 6., 7., 5.,\n",
       "       6., 5., 6., 5., 5., 7., 7., 6., 6., 6., 6., 6., 7., 6., 5., 7., 5.,\n",
       "       6., 5., 6., 5., 5., 7., 6., 5., 5., 6., 6., 7., 5., 6., 5., 4., 5.,\n",
       "       5., 5., 6., 6., 5., 5., 6., 6., 4., 5., 5., 5., 6., 5., 5., 6., 7.,\n",
       "       7., 5., 4., 6., 6., 5., 6., 4., 5., 5., 6., 5., 5., 6., 7., 6., 6.,\n",
       "       6., 7., 6., 5., 6., 7., 6., 7., 6., 5., 5., 6., 5., 5., 5., 5., 6.,\n",
       "       6., 5., 7., 6., 6., 6., 5., 5., 6., 5., 6., 6., 5., 6., 5., 7., 7.,\n",
       "       6., 6., 5., 6., 6., 6., 6., 6., 5., 6., 5., 5., 5., 5., 5., 6., 5.,\n",
       "       6., 6., 7., 5., 5., 5., 6., 7., 5., 5., 6., 7., 7., 4., 6., 5., 5.,\n",
       "       6., 7., 5., 6., 6., 5., 7., 7., 6., 6., 6., 6., 7., 4., 5., 7., 5.,\n",
       "       5., 5., 6., 4., 3., 6., 6., 5., 5., 5., 5., 5., 4., 4., 5., 6., 6.,\n",
       "       6., 5., 6., 6., 5., 6., 5., 6., 6., 7., 5., 5., 6., 5., 6., 5., 5.,\n",
       "       6., 5., 5., 5., 6., 5., 5., 5., 7., 6., 5., 6., 5., 5.])"
      ]
     },
     "execution_count": 61,
     "metadata": {},
     "output_type": "execute_result"
    }
   ],
   "source": [
    "model.predict(X_test)"
   ]
  },
  {
   "cell_type": "code",
   "execution_count": 62,
   "metadata": {},
   "outputs": [
    {
     "data": {
      "text/plain": [
       "array([5, 5, 6, 6, 6, 4, 8, 7, 6, 4, 5, 6, 5, 5, 6, 6, 7, 5, 6, 5, 7, 6,\n",
       "       5, 6, 5, 5, 6, 4, 5, 6, 7, 6, 5, 7, 5, 6, 5, 5, 6, 6, 5, 7, 7, 5,\n",
       "       5, 6, 6, 6, 4, 5, 6, 4, 5, 7, 6, 6, 6, 7, 7, 5, 4, 5, 4, 6, 6, 4,\n",
       "       6, 6, 6, 6, 8, 5, 5, 7, 8, 5, 5, 4, 6, 5, 6, 6, 5, 5, 5, 4, 6, 7,\n",
       "       7, 5, 6, 5, 6, 6, 7, 5, 7, 7, 5, 5, 5, 5, 5, 6, 6, 5, 6, 6, 7, 6,\n",
       "       6, 4, 5, 5, 5, 5, 6, 7, 4, 5, 5, 7, 5, 6, 7, 7, 5, 5, 5, 6, 6, 8,\n",
       "       6, 6, 6, 5, 6, 5, 5, 6, 6, 5, 5, 5, 5, 6, 6, 7, 5, 7, 5, 5, 5, 6,\n",
       "       5, 5, 5, 6, 6, 6, 5, 5, 5, 5, 6, 5, 6, 5, 6, 6, 7, 5, 5, 6, 5, 5,\n",
       "       6, 5, 6, 5, 5, 5, 5, 6, 7, 6, 6, 5, 6, 6, 6, 6, 7, 5, 5, 5, 5, 5,\n",
       "       5, 5, 5, 5, 6, 4, 6, 5, 6, 6, 5, 6, 5, 5, 6, 5, 6, 4, 5, 7, 5, 7,\n",
       "       7, 5, 5, 5, 6, 5, 6, 6, 6, 5, 5, 6, 6, 5, 5, 6, 5, 5, 7, 6, 7, 5,\n",
       "       6, 5, 6, 7, 4, 6, 6, 6, 6, 3, 5, 5, 5, 6, 7, 6, 6, 5, 5, 7, 6, 6,\n",
       "       5, 6, 6, 7, 5, 5, 7, 6, 5, 6, 6, 7, 5, 6, 5, 5, 5, 5, 5, 6, 6, 7,\n",
       "       6, 5, 6, 6, 5, 6, 4, 5, 6, 5, 6, 5, 7, 5, 5, 7, 5, 6, 3, 5, 6, 5,\n",
       "       5, 5, 6, 5, 6, 6, 7, 6, 5, 6, 5, 5], dtype=int64)"
      ]
     },
     "execution_count": 62,
     "metadata": {},
     "output_type": "execute_result"
    }
   ],
   "source": [
    "y_test"
   ]
  },
  {
   "cell_type": "code",
   "execution_count": null,
   "metadata": {},
   "outputs": [],
   "source": []
  }
 ],
 "metadata": {
  "kernelspec": {
   "display_name": "Python 3",
   "language": "python",
   "name": "python3"
  },
  "language_info": {
   "codemirror_mode": {
    "name": "ipython",
    "version": 3
   },
   "file_extension": ".py",
   "mimetype": "text/x-python",
   "name": "python",
   "nbconvert_exporter": "python",
   "pygments_lexer": "ipython3",
   "version": "3.7.2"
  }
 },
 "nbformat": 4,
 "nbformat_minor": 2
}
